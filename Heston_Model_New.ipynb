{
 "cells": [
  {
   "cell_type": "code",
   "execution_count": 1,
   "metadata": {},
   "outputs": [],
   "source": [
    "import numpy as np\n",
    "import matplotlib.pyplot as plt\n",
    "from scipy.stats import norm"
   ]
  },
  {
   "cell_type": "code",
   "execution_count": 2,
   "metadata": {},
   "outputs": [],
   "source": [
    "# Parameter\n",
    "r = 0\n",
    "S0 = 1 \n",
    "v0_sqrt = 0.2\n",
    "v0 = v0_sqrt**2\n",
    "kappa = 3\n",
    "theta_sqrt = 0.4\n",
    "theta = theta_sqrt**2\n",
    "eta = 1.5\n",
    "rho = -0.5\n",
    "\n",
    "\n",
    "Nsims = 5000\n",
    "dt = 1/1000\n",
    "\n",
    "T = [0.25, 0.5, 1]\n",
    "#len_t = int(T/dt)\n",
    "\n",
    "K_steps = 5\n",
    "K_call = np.linspace(1, 1.2, K_steps)\n",
    "K_put = np.linspace(0.8, 1, K_steps)"
   ]
  },
  {
   "cell_type": "code",
   "execution_count": null,
   "metadata": {},
   "outputs": [],
   "source": []
  },
  {
   "cell_type": "code",
   "execution_count": 3,
   "metadata": {},
   "outputs": [],
   "source": [
    "# Find implied volatility\n",
    "\n",
    "def bs_call(S, K, T, vol):\n",
    "    d1 = (np.log(S/K) + (0.5*vol**2)*T) / (vol*np.sqrt(T))\n",
    "    d2 = d1 - vol * np.sqrt(T)\n",
    "    return S * norm.cdf(d1) - K * norm.cdf(d2)\n",
    "\n",
    "def bs_put(S, K, T, vol):\n",
    "    d1 = (np.log(S/K) + (0.5*vol**2)*T) / (vol*np.sqrt(T))\n",
    "    d2 = d1 - vol * np.sqrt(T)\n",
    "    return -S * norm.cdf(-d1) + K * norm.cdf(-d2)\n",
    "\n",
    "def bs_vega(S, K, T, sigma):\n",
    "    d1 = (np.log(S / K) + (0.5 * sigma ** 2) * T) / (sigma * np.sqrt(T))\n",
    "    return S * norm.pdf(d1) * np.sqrt(T)\n",
    "\n",
    "def find_vol_call(target_value, S, K, T, *args):\n",
    "    MAX_ITERATIONS = 200\n",
    "    PRECISION = 1/1000000\n",
    "    sigma = 0.3\n",
    "    for i in range(0, MAX_ITERATIONS):\n",
    "        price = bs_call(S, K, T, sigma)\n",
    "        vega = bs_vega(S, K, T, sigma)\n",
    "        #print('V:' + str(vega))\n",
    "        diff = target_value - price  # our root\n",
    "        #print(diff)\n",
    "        if (abs(diff) < PRECISION):\n",
    "            return sigma\n",
    "        sigma = sigma + diff/vega # f(x) / f'(x)\n",
    "        #print(sigma)\n",
    "    return sigma # value wasn't found, return best guess so far\n",
    "\n",
    "def find_vol_put(target_value, S, K, T, *args):\n",
    "    MAX_ITERATIONS = 200\n",
    "    PRECISION = 1/1000000\n",
    "    sigma = 0.3\n",
    "    for i in range(0, MAX_ITERATIONS):\n",
    "        price = bs_put(S, K, T, sigma)\n",
    "        vega = bs_vega(S, K, T, sigma)\n",
    "        diff = target_value - price  # our root\n",
    "        if (abs(diff) < PRECISION):\n",
    "            return sigma\n",
    "        sigma = sigma + diff/vega # f(x) / f'(x)\n",
    "    return sigma # value wasn't found, return best guess so far"
   ]
  },
  {
   "cell_type": "code",
   "execution_count": 4,
   "metadata": {},
   "outputs": [],
   "source": [
    "def Risk_Neutral_Mils_col(len_t, dt, Nsims, v0, S0, kappa, theta, eta, z_sim_v, z_sim_s):\n",
    "    \n",
    "    var_path = np.zeros((Nsims, len_t))\n",
    "    var_path[:, 0] = v0\n",
    "\n",
    "    S_path = np.zeros((Nsims, len_t))\n",
    "    S_path[:, 0] = S0\n",
    "\n",
    "    # Euler X and Mils v\n",
    "    for i in range(len_t - 1):\n",
    "        \n",
    "        # Milstein Simulation of variance\n",
    "        var_path[:, i+1] = var_path[:,i] + \\\n",
    "                           kappa * (theta - np.maximum(var_path[:,i], 0)) * dt + \\\n",
    "                           eta * np.sqrt(np.maximum(var_path[:,i], 0)) * np.sqrt(dt) * z_sim_v[:, i] + \\\n",
    "                           0.25 * eta**2 * (dt * (z_sim_v[:, i])**2 - dt)\n",
    "        \n",
    "        # Euler Simulation of log(Stock Price)\n",
    "        S_path[:, i+1] = S_path[:, i] * np.exp( \\\n",
    "                         - 0.5 * np.maximum(var_path[:,i], 0)  * dt + \\\n",
    "                         np.sqrt(np.maximum(var_path[:,i], 0)) *  np.sqrt(dt) *(z_sim_s[:, i]))\n",
    "\n",
    "    return var_path, S_path"
   ]
  },
  {
   "cell_type": "code",
   "execution_count": 5,
   "metadata": {},
   "outputs": [],
   "source": [
    "# Risk-Netrual MC simulation for T = 0.25\n",
    "T1 = 0.25\n",
    "len_t1 = int(T1/dt)\n",
    "\n",
    "mu = np.array([0,0])\n",
    "cov = np.array([[1, rho] , [rho , 1]])\n",
    "\n",
    "z_sim_v = np.zeros((Nsims,len_t1))\n",
    "z_sim_s = np.zeros((Nsims,len_t1))\n",
    "\n",
    "for i in range(0, Nsims):\n",
    "    W = np.random.multivariate_normal(mu, cov, size = len_t1)\n",
    "    z_sim_v[i, :] = W[:,0]\n",
    "    z_sim_s[i, :] = W[:,1]\n",
    "    \n",
    "[var_path_1, S_path_1] = Risk_Neutral_Mils_col(len_t1, dt, Nsims, v0, S0, kappa, theta, eta, z_sim_v, z_sim_s)"
   ]
  },
  {
   "cell_type": "code",
   "execution_count": 11,
   "metadata": {},
   "outputs": [
    {
     "data": {
      "text/plain": [
       "array([ 0.06106855, -0.06310001, -0.26594347, ...,  0.17456513,\n",
       "        0.05707851,  0.0809343 ])"
      ]
     },
     "execution_count": 11,
     "metadata": {},
     "output_type": "execute_result"
    }
   ],
   "source": [
    "S_path_1[:,-1]-1"
   ]
  },
  {
   "cell_type": "code",
   "execution_count": 12,
   "metadata": {},
   "outputs": [],
   "source": [
    "fin_vol_call_1 = np.zeros(K_steps)\n",
    "ci_call_up = np.zeros(K_steps) \n",
    "ci_call_low = np.zeros(K_steps) \n",
    "for i in range(0, K_steps):\n",
    "    \n",
    "    #temp_K = K[i]\n",
    "    #temp_vol = np.zeros(Nsims)\n",
    "    \n",
    "    #temp_S = S0 * np.ones(Nsims)\n",
    "    #temp_K = K_call[i] * np.ones(Nsims)\n",
    "    #temp_T = T1 * np.ones(Nsims)\n",
    "    option_price = np.maximum(S_path_1[:,-1] - K_call[i], 0)\n",
    "    mean_price = np.mean(option_price)\n",
    "    price_up = mean_price + 1.96 * np.nanstd(option_price)/np.sqrt(Nsims)\n",
    "    price_low = mean_price - 1.96 * np.nanstd(option_price)/np.sqrt(Nsims)\n",
    "    #print(Option_Value)\n",
    "    #params = np.vstack((Option_Value, temp_S, temp_K, temp_T))\n",
    "    #vols = list(map(find_vol_call, *params))\n",
    "   \n",
    "    #some confidence interval\n",
    "    \n",
    "    fin_vol_call_1[i] = find_vol_call(mean_price, S0, K_call[i], T1)\n",
    "    ci_call_up[i] = find_vol_call(price_up, S0, K_call[i], T1)\n",
    "    ci_call_low[i] = find_vol_call(price_low, S0, K_call[i], T1)"
   ]
  },
  {
   "cell_type": "code",
   "execution_count": 14,
   "metadata": {},
   "outputs": [],
   "source": [
    "fin_vol_put_1 = np.zeros(K_steps)\n",
    "ci_put_up = np.zeros(K_steps) \n",
    "ci_put_low = np.zeros(K_steps) \n",
    "for i in range(0, K_steps):\n",
    "    \n",
    "    #temp_K = K[i]\n",
    "    #temp_vol = np.zeros(Nsims)\n",
    "    \n",
    "    #temp_S = S0 * np.ones(Nsims)\n",
    "    #temp_K = K_call[i] * np.ones(Nsims)\n",
    "    #temp_T = T1 * np.ones(Nsims)\n",
    "    option_price = np.maximum(-S_path_1[:,-1] + K_put[i], 0)\n",
    "    mean_price = np.mean(option_price)\n",
    "    price_up = mean_price + 1.96 * np.nanstd(option_price)/np.sqrt(Nsims)\n",
    "    price_low = mean_price - 1.96 * np.nanstd(option_price)/np.sqrt(Nsims)\n",
    "    #print(Option_Value)\n",
    "    #params = np.vstack((Option_Value, temp_S, temp_K, temp_T))\n",
    "    #vols = list(map(find_vol_call, *params))\n",
    "   \n",
    "    #some confidence interval\n",
    "    \n",
    "    fin_vol_put_1[i] = find_vol_put(mean_price, S0, K_put[i], T1)\n",
    "    ci_put_up[i] = find_vol_put(price_up, S0, K_put[i], T1)\n",
    "    ci_put_low[i] = find_vol_put(price_low, S0, K_put[i], T1)"
   ]
  },
  {
   "cell_type": "code",
   "execution_count": 18,
   "metadata": {},
   "outputs": [
    {
     "data": {
      "text/plain": [
       "<matplotlib.legend.Legend at 0x1a21ef46a0>"
      ]
     },
     "execution_count": 18,
     "metadata": {},
     "output_type": "execute_result"
    },
    {
     "data": {
      "image/png": "[encoded data removed]",
      "text/plain": [
       "<Figure size 432x288 with 1 Axes>"
      ]
     },
     "metadata": {},
     "output_type": "display_data"
    }
   ],
   "source": [
    "plt.plot(K_call, fin_vol_call_1, label='Risk-Netural Simulated IV_call')\n",
    "plt.plot(K_put, fin_vol_put_1, label='Risk-Netural Simulated IV_put')\n",
    "plt.fill_between(K_call, ci_call_up, ci_call_low, color='b', alpha=.1)\n",
    "plt.fill_between(K_put, ci_put_up, ci_put_low, color='b', alpha=.1)\n",
    "plt.xlabel('Strike')\n",
    "plt.ylabel('Implied Volatility')\n",
    "plt.title('Volatility Simulation for T = 0.25')\n",
    "plt.legend()"
   ]
  },
  {
   "cell_type": "code",
   "execution_count": 16,
   "metadata": {},
   "outputs": [],
   "source": [
    "# Risk-Netrual MC simulation for T = 0.5\n",
    "T2 = 0.5\n",
    "len_t2 = int(T2/dt)\n",
    "\n",
    "mu = np.array([0,0])\n",
    "cov = np.array([[1, rho] , [rho , 1]])\n",
    "\n",
    "z_sim_v2 = np.zeros((Nsims,len_t2))\n",
    "z_sim_s2 = np.zeros((Nsims,len_t2))\n",
    "\n",
    "for i in range(0, Nsims):\n",
    "    W = np.random.multivariate_normal(mu, cov, size = len_t2)\n",
    "    z_sim_v2[i, :] = W[:,0]\n",
    "    z_sim_s2[i, :] = W[:,1]\n",
    "    \n",
    "[var_path_2, S_path_2]= Risk_Neutral_Mils_col(len_t2, dt, Nsims, v0, S0, kappa, theta, eta, z_sim_v2, z_sim_s2)"
   ]
  },
  {
   "cell_type": "code",
   "execution_count": 25,
   "metadata": {},
   "outputs": [],
   "source": [
    "fin_vol_call_2 = np.zeros(K_steps)\n",
    "ci_call_up_2 = np.zeros(K_steps) \n",
    "ci_call_low_2 = np.zeros(K_steps) \n",
    "for i in range(0, K_steps):\n",
    "    \n",
    "    #temp_K = K[i]\n",
    "    #temp_vol = np.zeros(Nsims)\n",
    "    \n",
    "    #temp_S = S0 * np.ones(Nsims)\n",
    "    #temp_K = K_call[i] * np.ones(Nsims)\n",
    "    #temp_T = T1 * np.ones(Nsims)\n",
    "    option_price = np.maximum(S_path_2[:,-1] - K_call[i], 0)\n",
    "    mean_price = np.mean(option_price)\n",
    "    price_up = mean_price + 1.96 * np.nanstd(option_price)/np.sqrt(Nsims)\n",
    "    price_low = mean_price - 1.96 * np.nanstd(option_price)/np.sqrt(Nsims)\n",
    "    #print(Option_Value)\n",
    "    #params = np.vstack((Option_Value, temp_S, temp_K, temp_T))\n",
    "    #vols = list(map(find_vol_call, *params))\n",
    "   \n",
    "    #some confidence interval\n",
    "    \n",
    "    fin_vol_call_2[i] = find_vol_call(mean_price, S0, K_call[i], T2)\n",
    "    ci_call_up_2[i] = find_vol_call(price_up, S0, K_call[i], T2)\n",
    "    ci_call_low_2[i] = find_vol_call(price_low, S0, K_call[i], T2)"
   ]
  },
  {
   "cell_type": "code",
   "execution_count": 26,
   "metadata": {},
   "outputs": [],
   "source": [
    "fin_vol_put_2 = np.zeros(K_steps)\n",
    "ci_put_up_2 = np.zeros(K_steps) \n",
    "ci_put_low_2 = np.zeros(K_steps) \n",
    "for i in range(0, K_steps):\n",
    "    \n",
    "    #temp_K = K[i]\n",
    "    #temp_vol = np.zeros(Nsims)\n",
    "    \n",
    "    #temp_S = S0 * np.ones(Nsims)\n",
    "    #temp_K = K_call[i] * np.ones(Nsims)\n",
    "    #temp_T = T1 * np.ones(Nsims)\n",
    "    option_price = np.maximum(-S_path_2[:,-1] + K_put[i], 0)\n",
    "    mean_price = np.mean(option_price)\n",
    "    price_up = mean_price + 1.96 * np.nanstd(option_price)/np.sqrt(Nsims)\n",
    "    price_low = mean_price - 1.96 * np.nanstd(option_price)/np.sqrt(Nsims)\n",
    "    #print(Option_Value)\n",
    "    #params = np.vstack((Option_Value, temp_S, temp_K, temp_T))\n",
    "    #vols = list(map(find_vol_call, *params))\n",
    "   \n",
    "    #some confidence interval\n",
    "    \n",
    "    fin_vol_put_2[i] = find_vol_put(mean_price, S0, K_put[i], T2)\n",
    "    ci_put_up_2[i] = find_vol_put(price_up, S0, K_put[i], T2)\n",
    "    ci_put_low_2[i] = find_vol_put(price_low, S0, K_put[i], T2)"
   ]
  },
  {
   "cell_type": "code",
   "execution_count": 27,
   "metadata": {},
   "outputs": [
    {
     "data": {
      "text/plain": [
       "<matplotlib.legend.Legend at 0x1a26ef82e8>"
      ]
     },
     "execution_count": 27,
     "metadata": {},
     "output_type": "execute_result"
    },
    {
     "data": {
      "image/png": "[encoded data removed]",
      "text/plain": [
       "<Figure size 432x288 with 1 Axes>"
      ]
     },
     "metadata": {},
     "output_type": "display_data"
    }
   ],
   "source": [
    "plt.plot(K_call, fin_vol_call_2, label='Risk-Netural Simulated IV_call')\n",
    "plt.plot(K_put, fin_vol_put_2, label='Risk-Netural Simulated IV_put')\n",
    "plt.fill_between(K_call, ci_call_up_2, ci_call_low_2, color='b', alpha=.1)\n",
    "plt.fill_between(K_put, ci_put_up_2, ci_put_low_2, color='b', alpha=.1)\n",
    "plt.xlabel('Strike')\n",
    "plt.ylabel('Implied Volatility')\n",
    "plt.title('Volatility Simulation for T = 0.5')\n",
    "plt.legend()"
   ]
  },
  {
   "cell_type": "code",
   "execution_count": 28,
   "metadata": {},
   "outputs": [],
   "source": [
    "# Risk-Netrual MC simulation for T = 1\n",
    "T3 = 1\n",
    "len_t3 = int(T3/dt)\n",
    "\n",
    "mu = np.array([0,0])\n",
    "cov = np.array([[1, rho] , [rho , 1]])\n",
    "\n",
    "z_sim_v3 = np.zeros((Nsims,len_t3))\n",
    "z_sim_s3 = np.zeros((Nsims,len_t3))\n",
    "\n",
    "for i in range(0, Nsims):\n",
    "    W = np.random.multivariate_normal(mu, cov, size = len_t3)\n",
    "    z_sim_v3[i, :] = W[:,0]\n",
    "    z_sim_s3[i, :] = W[:,1]\n",
    "    \n",
    "[var_path_3, S_path_3]= Risk_Neutral_Mils_col(len_t3, dt, Nsims, v0, S0, kappa, theta, eta, z_sim_v3, z_sim_s3)"
   ]
  },
  {
   "cell_type": "code",
   "execution_count": 29,
   "metadata": {},
   "outputs": [],
   "source": [
    "fin_vol_call_3 = np.zeros(K_steps)\n",
    "ci_call_up_3 = np.zeros(K_steps) \n",
    "ci_call_low_3 = np.zeros(K_steps) \n",
    "for i in range(0, K_steps):\n",
    "    \n",
    "    #temp_K = K[i]\n",
    "    #temp_vol = np.zeros(Nsims)\n",
    "    \n",
    "    #temp_S = S0 * np.ones(Nsims)\n",
    "    #temp_K = K_call[i] * np.ones(Nsims)\n",
    "    #temp_T = T1 * np.ones(Nsims)\n",
    "    option_price = np.maximum(S_path_3[:,-1] - K_call[i], 0)\n",
    "    mean_price = np.mean(option_price)\n",
    "    price_up = mean_price + 1.96 * np.nanstd(option_price)/np.sqrt(Nsims)\n",
    "    price_low = mean_price - 1.96 * np.nanstd(option_price)/np.sqrt(Nsims)\n",
    "    #print(Option_Value)\n",
    "    #params = np.vstack((Option_Value, temp_S, temp_K, temp_T))\n",
    "    #vols = list(map(find_vol_call, *params))\n",
    "   \n",
    "    #some confidence interval\n",
    "    \n",
    "    fin_vol_call_3[i] = find_vol_call(mean_price, S0, K_call[i], T3)\n",
    "    ci_call_up_3[i] = find_vol_call(price_up, S0, K_call[i], T3)\n",
    "    ci_call_low_3[i] = find_vol_call(price_low, S0, K_call[i], T3)"
   ]
  },
  {
   "cell_type": "code",
   "execution_count": 30,
   "metadata": {},
   "outputs": [],
   "source": [
    "fin_vol_put_3 = np.zeros(K_steps)\n",
    "ci_put_up_3 = np.zeros(K_steps) \n",
    "ci_put_low_3 = np.zeros(K_steps) \n",
    "for i in range(0, K_steps):\n",
    "    \n",
    "    #temp_K = K[i]\n",
    "    #temp_vol = np.zeros(Nsims)\n",
    "    \n",
    "    #temp_S = S0 * np.ones(Nsims)\n",
    "    #temp_K = K_call[i] * np.ones(Nsims)\n",
    "    #temp_T = T1 * np.ones(Nsims)\n",
    "    option_price = np.maximum(-S_path_3[:,-1] + K_put[i], 0)\n",
    "    mean_price = np.mean(option_price)\n",
    "    price_up = mean_price + 1.96 * np.nanstd(option_price)/np.sqrt(Nsims)\n",
    "    price_low = mean_price - 1.96 * np.nanstd(option_price)/np.sqrt(Nsims)\n",
    "    #print(Option_Value)\n",
    "    #params = np.vstack((Option_Value, temp_S, temp_K, temp_T))\n",
    "    #vols = list(map(find_vol_call, *params))\n",
    "   \n",
    "    #some confidence interval\n",
    "    \n",
    "    fin_vol_put_3[i] = find_vol_put(mean_price, S0, K_put[i], T3)\n",
    "    ci_put_up_3[i] = find_vol_put(price_up, S0, K_put[i], T3)\n",
    "    ci_put_low_3[i] = find_vol_put(price_low, S0, K_put[i], T3)"
   ]
  },
  {
   "cell_type": "code",
   "execution_count": 31,
   "metadata": {},
   "outputs": [
    {
     "data": {
      "text/plain": [
       "<matplotlib.legend.Legend at 0x1a26cf1b38>"
      ]
     },
     "execution_count": 31,
     "metadata": {},
     "output_type": "execute_result"
    },
    {
     "data": {
      "image/png": "[encoded data removed]",
      "text/plain": [
       "<Figure size 432x288 with 1 Axes>"
      ]
     },
     "metadata": {},
     "output_type": "display_data"
    }
   ],
   "source": [
    "plt.plot(K_call, fin_vol_call_3, label='Risk-Netural Simulated IV_call')\n",
    "plt.plot(K_put, fin_vol_put_3, label='Risk-Netural Simulated IV_put')\n",
    "plt.fill_between(K_call, ci_call_up_3, ci_call_low_3, color='b', alpha=.1)\n",
    "plt.fill_between(K_put, ci_put_up_3, ci_put_low_3, color='b', alpha=.1)\n",
    "plt.xlabel('Strike')\n",
    "plt.ylabel('Implied Volatility')\n",
    "plt.title('Volatility Simulation for T = 1')\n",
    "plt.legend()"
   ]
  },
  {
   "cell_type": "code",
   "execution_count": null,
   "metadata": {},
   "outputs": [],
   "source": []
  },
  {
   "cell_type": "code",
   "execution_count": 32,
   "metadata": {},
   "outputs": [],
   "source": [
    "#len_t = int(T/dt) \n",
    "def Sim_Brownian_Motion_V(len_t, dt, Nsims):\n",
    "\n",
    "    # store the paths of the Brownian motion\n",
    "    W = np.zeros((Nsims,len_t))\n",
    "\n",
    "    sqrt_dt = np.sqrt(dt)\n",
    "    for i in range(len_t-1):\n",
    "        W[:,i+1] = W[:,i] + sqrt_dt * np.random.randn(Nsims)\n",
    "\n",
    "    return W"
   ]
  },
  {
   "cell_type": "code",
   "execution_count": 33,
   "metadata": {},
   "outputs": [],
   "source": [
    "def Risk_Neutral_Mils_mix(len_t, dt, Nsims, v0, S0, kappa, theta, eta, w_sim_v):\n",
    "    \n",
    "    var_path = np.zeros((Nsims, len_t))\n",
    "    var_path[:, 0] = v0\n",
    "\n",
    "    F_path = np.zeros((Nsims, len_t))\n",
    "    F_path[:, 0] = S0\n",
    "    \n",
    "    b2_path = np.zeros((Nsims, len_t))\n",
    "    b2_path[:, 0] = 0\n",
    "\n",
    "    # Euler X and Mils v\n",
    "    for i in range(len_t - 1):\n",
    "        \n",
    "        # Milstein Simulation of variance\n",
    "        var_path[:, i+1] = var_path[:,i] + \\\n",
    "                           kappa * (theta - np.maximum(var_path[:,i], 0)) * dt + \\\n",
    "                           eta * np.sqrt(np.maximum(var_path[:,i], 0)) * (w_sim_v[:, i+1] - w_sim_v[:, i]) + \\\n",
    "                           0.25 * eta**2 * ((w_sim_v[:, i+1] - w_sim_v[:, i])**2 - dt)\n",
    "        \n",
    "        # Euler Simulation of Stock Price\n",
    "        F_path[:, i+1] = F_path[:, i] * np.exp( \\\n",
    "                         - 0.5 * np.maximum(var_path[:,i], 0)  * dt \n",
    "                         + rho * np.sqrt(np.maximum(var_path[:,i], 0)) * (w_sim_v[:, i+1] - w_sim_v[:, i])\\\n",
    "                         + 0.5 * (1 - rho**2) * np.maximum(var_path[:,i], 0) * dt)\n",
    "\n",
    "        b2_path[:, i+1] = b2_path[:, i] + (1 - rho**2) * np.maximum(var_path[:,i], 0) * dt\n",
    "        \n",
    "    return var_path, F_path, b2_path"
   ]
  },
  {
   "cell_type": "code",
   "execution_count": 34,
   "metadata": {},
   "outputs": [],
   "source": [
    "def Option_Price_Mixing_call(F0, K, b2, *arg):\n",
    "    \n",
    "    d1 = (np.log(F0/K) + 0.5 * b2) / np.sqrt(b2)\n",
    "    d2 = (np.log(F0/K) - 0.5 * b2) / np.sqrt(b2)\n",
    "    \n",
    "    return F0 * norm.cdf(d1) - K * norm.cdf(d2)\n",
    "\n",
    "def Option_Price_Mixing_put(F0, K, b2, *arg):\n",
    "    \n",
    "    d1 = (np.log(F0/K) + 0.5 * b2) / np.sqrt(b2)\n",
    "    d2 = (np.log(F0/K) - 0.5 * b2) / np.sqrt(b2)\n",
    "    \n",
    "    return -F0 * norm.cdf(-d1) + K * norm.cdf(-d2)"
   ]
  },
  {
   "cell_type": "code",
   "execution_count": 35,
   "metadata": {},
   "outputs": [],
   "source": [
    "# Risk-Netrual mixing MC simulation for T = 0.25\n",
    "\n",
    "# T1 = 0.25\n",
    "# len_t1 = int(T1/dt)\n",
    "\n",
    "w_sim_v1 = Sim_Brownian_Motion_V(len_t1, dt, Nsims)\n",
    "\n",
    "[var_path_mix_1, F_path_1, b2_path_1]= Risk_Neutral_Mils_mix(len_t1, dt, Nsims, v0, S0, kappa, theta, eta, w_sim_v1)"
   ]
  },
  {
   "cell_type": "code",
   "execution_count": 36,
   "metadata": {},
   "outputs": [],
   "source": [
    "fin_vol_mix_call_1 = np.zeros(K_steps)\n",
    "ci_call_mix_up_1 = np.zeros(K_steps) \n",
    "ci_call_mix_low_1 = np.zeros(K_steps) \n",
    "\n",
    "for i in range(0, K_steps):\n",
    "    \n",
    "    #temp_K = K[i]\n",
    "    #temp_vol = np.zeros(Nsims)\n",
    "    temp_F0 = F_path_1[:, -1]\n",
    "    temp_K = K_call[i] * np.ones(Nsims)\n",
    "    temp_b2 = b2_path_1[:, -1]\n",
    "    \n",
    "    params_patoff = np.vstack((temp_F0, temp_K, temp_b2))\n",
    "    Option_Value = list(map(Option_Price_Mixing_call, *params_patoff))\n",
    "    \n",
    "    mean_price = np.mean(Option_Value)\n",
    "    price_up = mean_price + 1.96 * np.nanstd(Option_Value)/np.sqrt(Nsims)\n",
    "    price_low = mean_price - 1.96 * np.nanstd(Option_Value)/np.sqrt(Nsims)\n",
    "   \n",
    "    #some confidence interval\n",
    "    fin_vol_mix_call_1[i] = find_vol_call(mean_price, S0, K_call[i], T1)\n",
    "    ci_call_mix_up_1[i] = find_vol_call(price_up, S0, K_call[i], T1)\n",
    "    ci_call_mix_low_1[i] = find_vol_call(price_low, S0, K_call[i], T1)"
   ]
  },
  {
   "cell_type": "code",
   "execution_count": 37,
   "metadata": {},
   "outputs": [],
   "source": [
    "fin_vol_mix_put_1 = np.zeros(K_steps)\n",
    "ci_put_mix_up_1 = np.zeros(K_steps) \n",
    "ci_put_mix_low_1 = np.zeros(K_steps) \n",
    "\n",
    "for i in range(0, K_steps):\n",
    "    \n",
    "    #temp_K = K[i]\n",
    "    #temp_vol = np.zeros(Nsims)\n",
    "    temp_F0 = F_path_1[:, -1]\n",
    "    temp_K = K_put[i] * np.ones(Nsims)\n",
    "    temp_b2 = b2_path_1[:, -1]\n",
    "    \n",
    "    params_patoff = np.vstack((temp_F0, temp_K, temp_b2))\n",
    "    Option_Value = list(map(Option_Price_Mixing_put, *params_patoff))\n",
    "    \n",
    "    mean_price = np.mean(Option_Value)\n",
    "    price_up = mean_price + 1.96 * np.nanstd(Option_Value)/np.sqrt(Nsims)\n",
    "    price_low = mean_price - 1.96 * np.nanstd(Option_Value)/np.sqrt(Nsims)\n",
    "   \n",
    "    #some confidence interval\n",
    "    fin_vol_mix_put_1[i] = find_vol_put(mean_price, S0, K_put[i], T1)\n",
    "    ci_put_mix_up_1[i] = find_vol_put(price_up, S0, K_put[i], T1)\n",
    "    ci_put_mix_low_1[i] = find_vol_put(price_low, S0, K_put[i], T1)"
   ]
  },
  {
   "cell_type": "code",
   "execution_count": 38,
   "metadata": {},
   "outputs": [
    {
     "data": {
      "text/plain": [
       "<matplotlib.legend.Legend at 0x1a26feeac8>"
      ]
     },
     "execution_count": 38,
     "metadata": {},
     "output_type": "execute_result"
    },
    {
     "data": {
      "image/png": "[encoded data removed]",
      "text/plain": [
       "<Figure size 432x288 with 1 Axes>"
      ]
     },
     "metadata": {},
     "output_type": "display_data"
    }
   ],
   "source": [
    "plt.plot(K_call, fin_vol_mix_call_1, label='Risk-Netural Simulated IV_call')\n",
    "plt.plot(K_put, fin_vol_mix_put_1, label='Risk-Netural Simulated IV_put')\n",
    "plt.fill_between(K_call, ci_call_mix_up_1, ci_call_mix_low_1, color='b', alpha=.1)\n",
    "plt.fill_between(K_put, ci_put_mix_up_1, ci_put_mix_low_1, color='b', alpha=.1)\n",
    "plt.xlabel('Strike')\n",
    "plt.ylabel('Implied Volatility')\n",
    "plt.title('Volatility Simulation for T = 0.25')\n",
    "plt.legend()"
   ]
  },
  {
   "cell_type": "code",
   "execution_count": 39,
   "metadata": {},
   "outputs": [],
   "source": [
    "# Risk-Netrual mixing MC simulation for T = 0.5\n",
    "\n",
    "w_sim_v2 = Sim_Brownian_Motion_V(len_t2, dt, Nsims)\n",
    "\n",
    "[var_path_mix_2, F_path_2, b2_path_2]= Risk_Neutral_Mils_mix(len_t2, dt, Nsims, v0, S0, kappa, theta, eta, w_sim_v2)"
   ]
  },
  {
   "cell_type": "code",
   "execution_count": 42,
   "metadata": {},
   "outputs": [],
   "source": [
    "fin_vol_mix_call_2 = np.zeros(K_steps)\n",
    "ci_call_mix_up_2 = np.zeros(K_steps) \n",
    "ci_call_mix_low_2 = np.zeros(K_steps) \n",
    "\n",
    "for i in range(0, K_steps):\n",
    "    \n",
    "    #temp_K = K[i]\n",
    "    #temp_vol = np.zeros(Nsims)\n",
    "    temp_F0 = F_path_2[:, -1]\n",
    "    temp_K = K_call[i] * np.ones(Nsims)\n",
    "    temp_b2 = b2_path_2[:, -1]\n",
    "    \n",
    "    params_patoff = np.vstack((temp_F0, temp_K, temp_b2))\n",
    "    Option_Value = list(map(Option_Price_Mixing_call, *params_patoff))\n",
    "    \n",
    "    mean_price = np.mean(Option_Value)\n",
    "    price_up = mean_price + 1.96 * np.nanstd(Option_Value)/np.sqrt(Nsims)\n",
    "    price_low = mean_price - 1.96 * np.nanstd(Option_Value)/np.sqrt(Nsims)\n",
    "   \n",
    "    #some confidence interval\n",
    "    fin_vol_mix_call_2[i] = find_vol_call(mean_price, S0, K_call[i], T2)\n",
    "    ci_call_mix_up_2[i] = find_vol_call(price_up, S0, K_call[i], T2)\n",
    "    ci_call_mix_low_2[i] = find_vol_call(price_low, S0, K_call[i], T2)"
   ]
  },
  {
   "cell_type": "code",
   "execution_count": 40,
   "metadata": {},
   "outputs": [],
   "source": [
    "fin_vol_mix_put_2 = np.zeros(K_steps)\n",
    "ci_put_mix_up_2 = np.zeros(K_steps) \n",
    "ci_put_mix_low_2 = np.zeros(K_steps) \n",
    "\n",
    "for i in range(0, K_steps):\n",
    "    \n",
    "    #temp_K = K[i]\n",
    "    #temp_vol = np.zeros(Nsims)\n",
    "    temp_F0 = F_path_2[:, -1]\n",
    "    temp_K = K_put[i] * np.ones(Nsims)\n",
    "    temp_b2 = b2_path_2[:, -1]\n",
    "    \n",
    "    params_patoff = np.vstack((temp_F0, temp_K, temp_b2))\n",
    "    Option_Value = list(map(Option_Price_Mixing_put, *params_patoff))\n",
    "    \n",
    "    mean_price = np.mean(Option_Value)\n",
    "    price_up = mean_price + 1.96 * np.nanstd(Option_Value)/np.sqrt(Nsims)\n",
    "    price_low = mean_price - 1.96 * np.nanstd(Option_Value)/np.sqrt(Nsims)\n",
    "   \n",
    "    #some confidence interval\n",
    "    fin_vol_mix_put_2[i] = find_vol_put(mean_price, S0, K_put[i], T2)\n",
    "    ci_put_mix_up_2[i] = find_vol_put(price_up, S0, K_put[i], T2)\n",
    "    ci_put_mix_low_2[i] = find_vol_put(price_low, S0, K_put[i], T2)"
   ]
  },
  {
   "cell_type": "code",
   "execution_count": 43,
   "metadata": {},
   "outputs": [
    {
     "data": {
      "text/plain": [
       "<matplotlib.legend.Legend at 0x1a37c962b0>"
      ]
     },
     "execution_count": 43,
     "metadata": {},
     "output_type": "execute_result"
    },
    {
     "data": {
      "image/png": "[encoded data removed]",
      "text/plain": [
       "<Figure size 432x288 with 1 Axes>"
      ]
     },
     "metadata": {},
     "output_type": "display_data"
    }
   ],
   "source": [
    "plt.plot(K_call, fin_vol_mix_call_2, label='Risk-Netural Simulated IV_call')\n",
    "plt.plot(K_put, fin_vol_mix_put_2, label='Risk-Netural Simulated IV_put')\n",
    "plt.fill_between(K_call, ci_call_mix_up_2, ci_call_mix_low_2, color='b', alpha=.1)\n",
    "plt.fill_between(K_put, ci_put_mix_up_2, ci_put_mix_low_2, color='b', alpha=.1)\n",
    "plt.xlabel('Strike')\n",
    "plt.ylabel('Implied Volatility')\n",
    "plt.title('Volatility Simulation for T = 0.5')\n",
    "plt.legend()"
   ]
  },
  {
   "cell_type": "code",
   "execution_count": null,
   "metadata": {},
   "outputs": [],
   "source": []
  }
 ],
 "metadata": {
  "kernelspec": {
   "display_name": "Python 3",
   "language": "python",
   "name": "python3"
  },
  "language_info": {
   "codemirror_mode": {
    "name": "ipython",
    "version": 3
   },
   "file_extension": ".py",
   "mimetype": "text/x-python",
   "name": "python",
   "nbconvert_exporter": "python",
   "pygments_lexer": "ipython3",
   "version": "3.6.8"
  }
 },
 "nbformat": 4,
 "nbformat_minor": 2
}
